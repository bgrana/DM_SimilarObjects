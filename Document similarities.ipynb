{
 "cells": [
  {
   "cell_type": "code",
   "execution_count": 201,
   "metadata": {
    "collapsed": true
   },
   "outputs": [],
   "source": [
    "from math import sqrt\n",
    "import random\n",
    "import numpy as np"
   ]
  },
  {
   "cell_type": "markdown",
   "metadata": {},
   "source": [
    "## Read documents"
   ]
  },
  {
   "cell_type": "code",
   "execution_count": 1,
   "metadata": {
    "collapsed": true
   },
   "outputs": [],
   "source": [
    "docs = [\"Lorem Ipsum is simply dummy text of the printing and typesetting industry.\",\n",
    "        \"Lorem Ipsum has been the industry's standard dummy text ever since the 1500s, when an unknown printer took a galley of type and scrambled it to make a type specimen book.\",\n",
    "        \"It has survived not only five centuries, but also the leap into electronic typesetting, remaining essentially unchanged.\",\n",
    "        \"It was popularised in the 1960s with the release of Letraset sheets containing Lorem Ipsum passages, and more recently with desktop publishing software like Aldus PageMaker including versions of Lorem Ipsum.\"]"
   ]
  },
  {
   "cell_type": "code",
   "execution_count": 167,
   "metadata": {
    "collapsed": true
   },
   "outputs": [],
   "source": [
    "class Shingling():\n",
    "    def __init__(self, k):\n",
    "        self.k = k\n",
    "        self.hash = hash\n",
    "    def transform(self, doc):\n",
    "        # Compute shingles\n",
    "        shingles = [doc[i:i+self.k] for i in range(0, len(doc) - self.k + 1)]\n",
    "        hashes = sorted(set([self.hash(shingle) for shingle in shingles]))\n",
    "        \n",
    "        return hashes"
   ]
  },
  {
   "cell_type": "code",
   "execution_count": 168,
   "metadata": {
    "collapsed": false
   },
   "outputs": [
    {
     "data": {
      "text/plain": [
       "[-8907460678534539826,\n",
       " -8750419651505896790,\n",
       " -8669368805443004484,\n",
       " -8474637928453286226,\n",
       " -8081243204084430761]"
      ]
     },
     "execution_count": 168,
     "metadata": {},
     "output_type": "execute_result"
    }
   ],
   "source": [
    "sh = Shingling(2)\n",
    "sh.transform(docs[0])[0:5]"
   ]
  },
  {
   "cell_type": "code",
   "execution_count": 169,
   "metadata": {
    "collapsed": true
   },
   "outputs": [],
   "source": [
    "class CompareSets():\n",
    "    def compare(self, a, b):\n",
    "        return len(set(a) & set(b)) / len(set(a) | set(b))"
   ]
  },
  {
   "cell_type": "code",
   "execution_count": 80,
   "metadata": {
    "collapsed": false
   },
   "outputs": [
    {
     "data": {
      "text/plain": [
       "0.3388888888888889"
      ]
     },
     "execution_count": 80,
     "metadata": {},
     "output_type": "execute_result"
    }
   ],
   "source": [
    "cs = CompareSets()\n",
    "cs.compare(sh.transform(docs[1]), sh.transform(docs[3]))"
   ]
  },
  {
   "cell_type": "code",
   "execution_count": 236,
   "metadata": {
    "collapsed": false
   },
   "outputs": [],
   "source": [
    "class MinHashing():\n",
    "    def __init__(self, k):\n",
    "        primes = self._primes(k)\n",
    "        self.hashes = [lambda x: (random.randint(1, k)*x + random.randint(1, k))%random.choice(primes)\n",
    "                       for i in range(k)]\n",
    "        \n",
    "    def transform(self, doc):\n",
    "        signatures = [[f(shingle) for shingle in doc] for f in self.hashes]\n",
    "        return [doc[np.argmin(l)] for l in signatures]\n",
    "        \n",
    "        \n",
    "    def _primes(self, n):\n",
    "        # Function that returns the first n prime numbers\n",
    "        # Based on Eratostenes sieve\n",
    "        primes = [2, 3, 5, 7, 11, 13, 17, 19, 23]\n",
    "        while(len(primes) < n):\n",
    "            last = primes[-1]\n",
    "            primes += [i for i in range(last, last*last) if all(i%p for p in primes)]\n",
    "        return primes[0:n]"
   ]
  },
  {
   "cell_type": "code",
   "execution_count": 258,
   "metadata": {
    "collapsed": false
   },
   "outputs": [
    {
     "data": {
      "text/plain": [
       "[-8740365127586544774,\n",
       " -9099774106317024168,\n",
       " -9152175143030237047,\n",
       " -8665697011579506802,\n",
       " -8750419651505896790]"
      ]
     },
     "execution_count": 258,
     "metadata": {},
     "output_type": "execute_result"
    }
   ],
   "source": [
    "mh = MinHashing(5)\n",
    "mh.transform(sh.transform(docs[1]))"
   ]
  },
  {
   "cell_type": "code",
   "execution_count": 259,
   "metadata": {
    "collapsed": false
   },
   "outputs": [],
   "source": [
    "class CompareSignatures():\n",
    "    def compare(self, a, b):\n",
    "        if len(a) != len(b):\n",
    "            raise ValueError(\"Signatures lengths differ.\")\n",
    "        return sum([int(a[i] == b[i]) for i in range(len(a))]) / len(a)"
   ]
  },
  {
   "cell_type": "code",
   "execution_count": 260,
   "metadata": {
    "collapsed": false
   },
   "outputs": [
    {
     "data": {
      "text/plain": [
       "0.2"
      ]
     },
     "execution_count": 260,
     "metadata": {},
     "output_type": "execute_result"
    }
   ],
   "source": [
    "csign = CompareSignatures()\n",
    "csign.compare(mh.transform(sh.transform(docs[1])), mh.transform(sh.transform(docs[3])))"
   ]
  }
 ],
 "metadata": {
  "kernelspec": {
   "display_name": "Python 3",
   "language": "python",
   "name": "python3"
  },
  "language_info": {
   "codemirror_mode": {
    "name": "ipython",
    "version": 3
   },
   "file_extension": ".py",
   "mimetype": "text/x-python",
   "name": "python",
   "nbconvert_exporter": "python",
   "pygments_lexer": "ipython3",
   "version": "3.5.1"
  }
 },
 "nbformat": 4,
 "nbformat_minor": 0
}
