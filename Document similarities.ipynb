{
 "cells": [
  {
   "cell_type": "code",
   "execution_count": 338,
   "metadata": {
    "collapsed": true
   },
   "outputs": [],
   "source": [
    "from math import sqrt\n",
    "import random\n",
    "import numpy as np\n",
    "from os import listdir\n",
    "from os.path import isfile, join"
   ]
  },
  {
   "cell_type": "markdown",
   "metadata": {},
   "source": [
    "## Read documents"
   ]
  },
  {
   "cell_type": "code",
   "execution_count": 339,
   "metadata": {
    "collapsed": false
   },
   "outputs": [],
   "source": [
    "input_dir = \"./docs\"\n",
    "onlyfiles = [f for f in listdir(input_dir) if isfile(join(input_dir, f))]\n",
    "docs = []\n",
    "for fname in onlyfiles:\n",
    "    with open(join(input_dir, fname), \"r\") as file:\n",
    "        docs += [file.read()]"
   ]
  },
  {
   "cell_type": "markdown",
   "metadata": {},
   "source": [
    "## Compute shingles' hash values"
   ]
  },
  {
   "cell_type": "code",
   "execution_count": 340,
   "metadata": {
    "collapsed": true
   },
   "outputs": [],
   "source": [
    "class Shingling():\n",
    "    def __init__(self, k):\n",
    "        self.k = k\n",
    "        self.hash = hash # Use python built-in hashing function\n",
    "    def transform(self, doc):\n",
    "        # Compute shingles\n",
    "        shingles = [doc[i:i+self.k] for i in range(0, len(doc) - self.k + 1)]\n",
    "        hashes = sorted(set([abs(self.hash(shingle)) for shingle in shingles]))\n",
    "        \n",
    "        return hashes"
   ]
  },
  {
   "cell_type": "code",
   "execution_count": 341,
   "metadata": {
    "collapsed": false
   },
   "outputs": [],
   "source": [
    "sh = Shingling(5)\n",
    "sets = [sh.transform(doc) for doc in docs]"
   ]
  },
  {
   "cell_type": "markdown",
   "metadata": {},
   "source": [
    "## Compare shingle hashes with Jaccard similarity"
   ]
  },
  {
   "cell_type": "code",
   "execution_count": 342,
   "metadata": {
    "collapsed": true
   },
   "outputs": [],
   "source": [
    "def compare_shingles(a, b):\n",
    "        return len(set(a) & set(b)) / len(set(a) | set(b))"
   ]
  },
  {
   "cell_type": "code",
   "execution_count": 343,
   "metadata": {
    "collapsed": false
   },
   "outputs": [
    {
     "data": {
      "text/plain": [
       "[(('A1.txt', 'A1small.txt'), 0.9565720903300521),\n",
       " (('B1.txt', 'B2.txt'), 1.0),\n",
       " (('B1.txt', 'B1small.txt'), 0.4695366654505655),\n",
       " (('B2.txt', 'B1small.txt'), 0.4695366654505655)]"
      ]
     },
     "execution_count": 343,
     "metadata": {},
     "output_type": "execute_result"
    }
   ],
   "source": [
    "similarities = {(onlyfiles[i],onlyfiles[j]): compare_shingles(sets[i], sets[j]) \n",
    "                for i in range(0, len(docs)) \n",
    "                for j in range(i+1, len(docs))}\n",
    "[(k,v) for k,v in similarities.items() if v > 0.3]"
   ]
  },
  {
   "cell_type": "markdown",
   "metadata": {},
   "source": [
    "## Compute minHash signatures"
   ]
  },
  {
   "cell_type": "code",
   "execution_count": 344,
   "metadata": {
    "collapsed": false
   },
   "outputs": [],
   "source": [
    "class MinHashing():\n",
    "    def __init__(self, k):\n",
    "        c = 4294967311 # Big prime\n",
    "        a_coeffs = random.sample(range(1, 2**31), k)\n",
    "        b_coeffs = random.sample(range(1, 2**31), k)\n",
    "        self.hashes = [lambda x: (a_coeffs[i]*x + b_coeffs[i])%c for i in range(k)]\n",
    "        \n",
    "    def transform(self, shingles):\n",
    "        signatures = [[f(shingle) for shingle in shingles] for f in self.hashes]\n",
    "        return [shingles[np.argmin(l)] for l in signatures]\n"
   ]
  },
  {
   "cell_type": "code",
   "execution_count": 345,
   "metadata": {
    "collapsed": false
   },
   "outputs": [],
   "source": [
    "mh = MinHashing(100)\n",
    "signatures = [mh.transform(s) for s in sets]"
   ]
  },
  {
   "cell_type": "markdown",
   "metadata": {},
   "source": [
    "## Compare minHash signatures"
   ]
  },
  {
   "cell_type": "code",
   "execution_count": 346,
   "metadata": {
    "collapsed": false
   },
   "outputs": [],
   "source": [
    "def compare_signatures(a, b):\n",
    "    if len(a) != len(b):\n",
    "        raise ValueError(\"Signatures lengths differ.\")\n",
    "    #return sum([int(a[i] == b[i]) for i in range(len(a))]) / (len(a)*1.0)\n",
    "    return np.mean(a == b)"
   ]
  },
  {
   "cell_type": "code",
   "execution_count": 347,
   "metadata": {
    "collapsed": false
   },
   "outputs": [
    {
     "data": {
      "text/plain": [
       "[(('A1.txt', 'A1small.txt'), 1.0),\n",
       " (('B1.txt', 'B2.txt'), 1.0),\n",
       " (('B1.txt', 'B1small.txt'), 1.0),\n",
       " (('a0200021.txt', 'a0200045.txt'), 1.0),\n",
       " (('B2.txt', 'B1small.txt'), 1.0),\n",
       " (('a0200019.txt', 'a0200047.txt'), 1.0)]"
      ]
     },
     "execution_count": 347,
     "metadata": {},
     "output_type": "execute_result"
    }
   ],
   "source": [
    "estimations = {(onlyfiles[i],onlyfiles[j]):compare_signatures(signatures[i], signatures[j]) \n",
    "                for i in range(0, len(signatures)) \n",
    "                for j in range(i+1, len(signatures))}\n",
    "[(k,v) for k,v in estimations.items() if v > 0.3]"
   ]
  }
 ],
 "metadata": {
  "kernelspec": {
   "display_name": "Python 3",
   "language": "python",
   "name": "python3"
  },
  "language_info": {
   "codemirror_mode": {
    "name": "ipython",
    "version": 3
   },
   "file_extension": ".py",
   "mimetype": "text/x-python",
   "name": "python",
   "nbconvert_exporter": "python",
   "pygments_lexer": "ipython3",
   "version": "3.5.1"
  }
 },
 "nbformat": 4,
 "nbformat_minor": 0
}
